{
 "cells": [
  {
   "cell_type": "markdown",
   "metadata": {},
   "source": [
    "## Leet code\n",
    "\n",
    "For today you will be solving some selected challenges on leetcode, please create an account if you don't have then\n",
    "Follow the links below:\n",
    "read them carefully and solve them then copy-paste your solution below in Code Block\n"
   ]
  },
  {
   "cell_type": "markdown",
   "metadata": {},
   "source": [
    "### **Question-01**:\n",
    "-----\n"
   ]
  },
  {
   "cell_type": "markdown",
   "metadata": {},
   "source": [
    "##### [Roman-To-Integer](https://leetcode.com/problems/roman-to-integer/)\n",
    "\n",
    "Solution:  \n"
   ]
  },
  {
   "cell_type": "code",
   "execution_count": 5,
   "metadata": {},
   "outputs": [],
   "source": [
    "def romanToInt( s: str) -> int:\n",
    "    dict = {\n",
    "        'I':1,\n",
    "        'V':5,\n",
    "        'X':10,\n",
    "        'L':50,\n",
    "        'C':100,\n",
    "        'D':500,\n",
    "        'M':1000,\n",
    "    }\n",
    "    \n",
    "    input = list(s)\n",
    "    input = list(reversed(input))\n",
    "    sum =0\n",
    "    for idx,char in enumerate(input):            \n",
    "        if idx >=1:\n",
    "            current = dict[char]\n",
    "            previous = dict[input[idx-1]]\n",
    "            \n",
    "            if current < previous:\n",
    "                sum -= current\n",
    "            else:\n",
    "                sum += current\n",
    "        else:\n",
    "            sum += dict[char]     \n",
    "    return sum\n"
   ]
  },
  {
   "cell_type": "markdown",
   "metadata": {},
   "source": [
    "##### testing:"
   ]
  },
  {
   "cell_type": "code",
   "execution_count": 10,
   "metadata": {},
   "outputs": [],
   "source": [
    "\n",
    "assert  58  ==  romanToInt(\"LVIII\")\n",
    "assert 1994 ==  romanToInt(\"MCMXCIV\")\n",
    "assert 3    ==  romanToInt(\"III\")"
   ]
  },
  {
   "cell_type": "markdown",
   "metadata": {},
   "source": [
    "##### Big(O):"
   ]
  },
  {
   "cell_type": "markdown",
   "metadata": {},
   "source": [
    "\n",
    "Time : O(N)\n",
    "Space : O(1)\n"
   ]
  },
  {
   "cell_type": "code",
   "execution_count": null,
   "metadata": {},
   "outputs": [],
   "source": []
  },
  {
   "cell_type": "markdown",
   "metadata": {},
   "source": [
    "### **Question-02**:\n",
    "--------"
   ]
  },
  {
   "cell_type": "markdown",
   "metadata": {},
   "source": [
    "##### [single-number](https://leetcode.com/problems/single-number/)\n",
    "\n",
    "Solution:\n"
   ]
  },
  {
   "cell_type": "code",
   "execution_count": 11,
   "metadata": {},
   "outputs": [],
   "source": [
    "def singleNumber( nums: list[int]) -> int:\n",
    "    \n",
    "    if len(nums) == 1:\n",
    "        return nums[0]\n",
    "    \n",
    "    if len(nums) % 2 == 0 :\n",
    "        return None\n",
    "    \n",
    "    \n",
    "    \n",
    "    \n",
    "    store = {}\n",
    "\n",
    "    \n",
    "    for num in nums:            \n",
    "        if num in store: # o(1)\n",
    "            store[num] +=1 \n",
    "        else:\n",
    "            store[num] =0\n",
    "        \n",
    "        \n",
    "        \n",
    "    \n",
    "    for key in store.keys():\n",
    "        if store[key] == 0:\n",
    "            return key\n",
    "        "
   ]
  },
  {
   "cell_type": "markdown",
   "metadata": {},
   "source": [
    "##### testing:"
   ]
  },
  {
   "cell_type": "code",
   "execution_count": 12,
   "metadata": {},
   "outputs": [],
   "source": [
    "\n",
    "assert 1 ==  singleNumber([2,2,1])\n",
    "assert 4 ==  singleNumber([4,1,2,1,2])\n",
    "assert 1 ==  singleNumber([1])"
   ]
  },
  {
   "cell_type": "markdown",
   "metadata": {},
   "source": [
    "##### Big(O):"
   ]
  },
  {
   "cell_type": "markdown",
   "metadata": {},
   "source": [
    "\n",
    "Time : O(N)\n",
    "Space : O(N)\n"
   ]
  },
  {
   "cell_type": "markdown",
   "metadata": {},
   "source": [
    "### **Question-03**:\n",
    "------"
   ]
  },
  {
   "cell_type": "markdown",
   "metadata": {},
   "source": [
    "##### [Move Zeroes](https://leetcode.com/problems/move-zeroes/)\n",
    "\n",
    "Solution:\n"
   ]
  },
  {
   "cell_type": "code",
   "execution_count": 34,
   "metadata": {},
   "outputs": [],
   "source": [
    "\n",
    "def moveZeroes(nums: list[int]):\n",
    "\n",
    "    if len(nums) == 1:\n",
    "        return nums\n",
    "    \n",
    "    zeros = {}\n",
    "    numbers = {}\n",
    "    \n",
    "    for idx,num in enumerate(nums):\n",
    "        if nums[idx] == 0 :\n",
    "            zeros[idx] = 0\n",
    "        else:\n",
    "            numbers[idx] = num\n",
    "\n",
    "    totalZeros = len(zeros.keys())\n",
    "    totalNumbers= len(numbers.keys())\n",
    "    \n",
    "    i =0\n",
    "    for keys in zeros.keys():\n",
    "        nums.pop(keys - i)\n",
    "        i+=1\n",
    "    \n",
    "    for x in range(totalZeros):\n",
    "        nums.append(0)\n",
    "    return nums\n",
    "    "
   ]
  },
  {
   "cell_type": "markdown",
   "metadata": {},
   "source": [
    "##### testing:"
   ]
  },
  {
   "cell_type": "code",
   "execution_count": 35,
   "metadata": {},
   "outputs": [],
   "source": [
    "assert [1,3,12,0,0]==  moveZeroes([0,1,0,3,12])\n",
    "assert [0] ==  moveZeroes([0])\n",
    "assert [3,2,4,0,0,0] ==  moveZeroes([0,3,0,0,2,4])"
   ]
  },
  {
   "cell_type": "markdown",
   "metadata": {},
   "source": [
    "##### Big(O):"
   ]
  },
  {
   "cell_type": "markdown",
   "metadata": {},
   "source": [
    "\n",
    "Time : O(N)\n",
    "Space : O(N)"
   ]
  },
  {
   "cell_type": "markdown",
   "metadata": {},
   "source": [
    "### **Question-04**:\n",
    "------"
   ]
  },
  {
   "cell_type": "markdown",
   "metadata": {},
   "source": [
    "##### [longest-common-prefix](https://leetcode.com/problems/longest-common-prefix/)\n",
    "\n",
    "Solution:\n"
   ]
  },
  {
   "cell_type": "code",
   "execution_count": 40,
   "metadata": {},
   "outputs": [],
   "source": [
    "def longestCommonPrefix( strs: list[str]) -> str:\n",
    "    \n",
    "    if len(strs) ==1:\n",
    "        return strs[0]\n",
    "    \n",
    "    \n",
    "    first_word = list(strs[0])\n",
    "    length = len(first_word)\n",
    "\n",
    "    repeat = [1 for i in range(length)]        \n",
    "    result = \"\"\n",
    "    \n",
    "    idx=0        \n",
    "    for current_string in strs:\n",
    "        if idx == 0:\n",
    "            idx +=1\n",
    "            continue\n",
    "        \n",
    "        i = min (length, len(current_string))  \n",
    "        \n",
    "        for x in range(i):\n",
    "            if first_word[x] == current_string[x]:\n",
    "                repeat[x] +=1\n",
    "        \n",
    "    \n",
    "    total = len(strs)\n",
    "    \n",
    "    for idx , val in enumerate(repeat):\n",
    "        if val == total:\n",
    "            result+= first_word[idx]\n",
    "        else:\n",
    "            break\n",
    "    \n",
    "    return result\n",
    "    "
   ]
  },
  {
   "cell_type": "markdown",
   "metadata": {},
   "source": [
    "##### testing:"
   ]
  },
  {
   "cell_type": "code",
   "execution_count": 41,
   "metadata": {},
   "outputs": [],
   "source": [
    "assert\"fl\"==  longestCommonPrefix([\"flower\",\"flow\",\"flight\"])\n",
    "assert  \"\" ==  longestCommonPrefix ([\"dog\",\"racecar\",\"car\"])\n",
    "assert \"tra\" ==  longestCommonPrefix([\"transform\",\"transcribe\",\"train\"])"
   ]
  },
  {
   "cell_type": "markdown",
   "metadata": {},
   "source": [
    "##### Big(O):"
   ]
  },
  {
   "cell_type": "markdown",
   "metadata": {},
   "source": [
    "\n",
    "Time : O(N)\n",
    "Space : O(1)"
   ]
  }
 ],
 "metadata": {
  "kernelspec": {
   "display_name": "Python 3.10.5 64-bit",
   "language": "python",
   "name": "python3"
  },
  "language_info": {
   "codemirror_mode": {
    "name": "ipython",
    "version": 3
   },
   "file_extension": ".py",
   "mimetype": "text/x-python",
   "name": "python",
   "nbconvert_exporter": "python",
   "pygments_lexer": "ipython3",
   "version": "3.10.5"
  },
  "orig_nbformat": 4,
  "vscode": {
   "interpreter": {
    "hash": "03f0c0b1f637f5f14c9e2254a4913201585d8e77c668ac768cced1bac7976248"
   }
  }
 },
 "nbformat": 4,
 "nbformat_minor": 2
}
